{
 "cells": [
  {
   "cell_type": "raw",
   "id": "3be183a1-17d4-465a-a7bb-6a59f5582ced",
   "metadata": {},
   "source": [
    "1. What is Python, and why is it popular?\n",
    "Ans. Python is a high level interpreted programming language known for its simplicity and readbility. Its popular because of Easy syntax simliar to english, extensive libraries and community support, versatility,interpreted and dynamically typed"
   ]
  },
  {
   "cell_type": "raw",
   "id": "02bea61e-ac28-4dcf-8cd1-8f3ff5852bdb",
   "metadata": {},
   "source": [
    "2.What is an interpreter in python?\n",
    "Ans. An Interpreter reads python code line by line and executes it directly, which helps in quick testing and debugging"
   ]
  },
  {
   "cell_type": "raw",
   "id": "43454a87-df45-42be-a588-48757e2ac756",
   "metadata": {},
   "source": [
    "3. what are pre defined keywords in python?\n",
    "Ans. Pred-defined keywords are reserved words in python that have special meaning like if,for,int,print,while etc."
   ]
  },
  {
   "cell_type": "raw",
   "id": "ac68c202-3bdf-4618-9586-757910fdbd41",
   "metadata": {},
   "source": [
    "4. Can keywords be used as variable names?\n",
    "Ans. No, Python keywords cannot be used as variable names because they are reserved for specific syntax and functions"
   ]
  },
  {
   "cell_type": "raw",
   "id": "680c30c3-90ce-41e7-b972-ed9729f69c00",
   "metadata": {},
   "source": [
    "5.What is mutability in python?\n",
    "Ans.Mutability refers to an objects ability to change its content. Mutable objects can be changed after creation; immutable ones cannot"
   ]
  },
  {
   "cell_type": "raw",
   "id": "fc3b3aae-d2a4-49f6-9828-584e26df7918",
   "metadata": {},
   "source": [
    "6.Why are lists mutable, but tuples are immutable?\n",
    "Ans. Listsare designed to store dynamic data so they allow modifications. Tuples are used for fixed collections, so they don't support item assignment after creation"
   ]
  },
  {
   "cell_type": "raw",
   "id": "3a1e9f4a-a2d5-41e9-b0b1-af5e6069595c",
   "metadata": {},
   "source": [
    "7. What is the difference between\"==\" and \"is\" operators in python?\n",
    "Ans. \"==\" Compares Values while \"is\"  checks object identity"
   ]
  },
  {
   "cell_type": "raw",
   "id": "bb000f8a-ab79-476f-8d4d-775fc8a67ba4",
   "metadata": {},
   "source": [
    "8. What are logical operators in python?\n",
    "Ans. Logical operators are; AND, OR , NOT"
   ]
  },
  {
   "cell_type": "raw",
   "id": "ad4ef174-7d31-4a8a-ac63-8cb8963895f1",
   "metadata": {},
   "source": [
    "9. What is type casting in python?\n",
    "Ans. Type casting in converting one data type to another eg. Int to float"
   ]
  },
  {
   "cell_type": "raw",
   "id": "0bfd93d8-36c9-4b2b-af12-d49a52be3c37",
   "metadata": {},
   "source": [
    "10.What is the difference between implicit and explicit type casting?\n",
    "Ans. Implicit; done autimatically by python where explicit manually done using functions"
   ]
  },
  {
   "cell_type": "raw",
   "id": "08cf50e5-17f2-471d-968c-9dbf48fa6d58",
   "metadata": {},
   "source": [
    "11. What us the purpose of conditional statements in python?\n",
    "Ans. They allow decision making in code by using if, elif, else"
   ]
  },
  {
   "cell_type": "raw",
   "id": "b8734614-7071-4dd9-9f1a-fb19fb3c83b3",
   "metadata": {},
   "source": [
    "12.How does elif statement work?\n",
    "Ans. elif(else if) allows checking multiple confitions after the intial if . If if is false, python evaluates each elif in order"
   ]
  },
  {
   "cell_type": "raw",
   "id": "f53ceb90-e9e9-4b9f-9347-c21a7cc83a6f",
   "metadata": {},
   "source": [
    "13. What is the difference between for and while loops?\n",
    "Ans. for is used when the number of iterations is known.\n",
    "     while is used when the lopp should continue until a condition is false"
   ]
  },
  {
   "cell_type": "raw",
   "id": "69305c9e-a6ce-492a-a799-393ebbe72bb7",
   "metadata": {},
   "source": [
    "14. Describe a scenario where a while loop is more suitable than for loop.\n",
    "Ans. When reading user input until they type exit. The number of inputs isn't known, so while is more suitable"
   ]
  },
  {
   "cell_type": "code",
   "execution_count": null,
   "id": "2df63c98-3ef4-4e3c-ae7a-3c42805a2784",
   "metadata": {},
   "outputs": [],
   "source": [
    "#Practical Question and Answers"
   ]
  },
  {
   "cell_type": "code",
   "execution_count": 4,
   "id": "cdb85261-9163-4cde-b3c7-54a1e8c0bc04",
   "metadata": {},
   "outputs": [
    {
     "name": "stdout",
     "output_type": "stream",
     "text": [
      "Hello,World!\n"
     ]
    }
   ],
   "source": [
    "#1. print\"hello world\"\n",
    "print(\"Hello,World!\")"
   ]
  },
  {
   "cell_type": "code",
   "execution_count": 5,
   "id": "48cdcaf7-d57e-4ce5-af7e-eab163bba79e",
   "metadata": {},
   "outputs": [
    {
     "name": "stdout",
     "output_type": "stream",
     "text": [
      "Name: Utsav\n",
      "Age: 25\n"
     ]
    }
   ],
   "source": [
    "#2. Display your name and age\n",
    "name=\"Utsav\"\n",
    "age=\"25\"\n",
    "print(\"Name:\",name)\n",
    "print(\"Age:\",age)"
   ]
  },
  {
   "cell_type": "code",
   "execution_count": 6,
   "id": "73fb7f66-6cc4-4c41-9dc5-ca4a3bf8d061",
   "metadata": {},
   "outputs": [
    {
     "name": "stdout",
     "output_type": "stream",
     "text": [
      "['False', 'None', 'True', 'and', 'as', 'assert', 'async', 'await', 'break', 'class', 'continue', 'def', 'del', 'elif', 'else', 'except', 'finally', 'for', 'from', 'global', 'if', 'import', 'in', 'is', 'lambda', 'nonlocal', 'not', 'or', 'pass', 'raise', 'return', 'try', 'while', 'with', 'yield']\n"
     ]
    }
   ],
   "source": [
    "#3.Print all pre-defined keywords using the keyword library\n",
    "import keyword\n",
    "print(keyword.kwlist)"
   ]
  },
  {
   "cell_type": "code",
   "execution_count": 7,
   "id": "0a4ea7c0-b1c5-4bca-a910-f98733c0b16f",
   "metadata": {},
   "outputs": [
    {
     "name": "stdin",
     "output_type": "stream",
     "text": [
      "Enter a word:  for\n"
     ]
    },
    {
     "name": "stdout",
     "output_type": "stream",
     "text": [
      "for is a python keyword.\n"
     ]
    }
   ],
   "source": [
    "#4.check if a word is a python keyword\n",
    "import keyword\n",
    "word= input(\"Enter a word: \")\n",
    "if keyword.iskeyword(word):\n",
    "    print(word, \"is a python keyword.\")\n",
    "else:\n",
    "    print:(word, \"is not a python keyword.\")"
   ]
  },
  {
   "cell_type": "code",
   "execution_count": null,
   "id": "8330df40-104b-4972-8be8-1aad7416ebe7",
   "metadata": {},
   "outputs": [],
   "source": [
    "#5. Demonstrate list vs tuple mutability\n",
    "#In List\n",
    "mylist=[1,2,3,]\n",
    "mylist[0]=10\n",
    "#Tuple \n",
    "mytuple=(1,2,3)"
   ]
  },
  {
   "cell_type": "code",
   "execution_count": null,
   "id": "b8cee604-a43a-4495-92fd-797eec3d00fb",
   "metadata": {},
   "outputs": [],
   "source": [
    "#6.Function showing mutable and immutable behavior\n",
    "def modify_immutable(x):\n",
    "    x+=5\n",
    "    print(\"inside function (immutable):\",x)\n",
    "def modify_mutable(lst):\n",
    "    lst.append(100)\n",
    "    print(\"inside function(mutable):\",lst)\n",
    "a=10\n",
    "modify_immutable(a)\n",
    "print(\"outside function (immutable)\")\n",
    "\n",
    "b=[1,2,3]\n",
    "modify_mutable(b)\n",
    "print(\"outside function (mutable):\","
   ]
  },
  {
   "cell_type": "code",
   "execution_count": 2,
   "id": "e3ee4c35-fcfa-4ac1-9703-ffc93661c628",
   "metadata": {},
   "outputs": [
    {
     "name": "stdin",
     "output_type": "stream",
     "text": [
      "Enter first number:  5\n",
      "Enter second number:  5\n"
     ]
    },
    {
     "name": "stdout",
     "output_type": "stream",
     "text": [
      "sum: 10.0\n",
      "difference: 0.0\n",
      "Quotient 1.0\n"
     ]
    }
   ],
   "source": [
    "# 7.Basic arthimetic on user inputs\n",
    "a=float(input(\"Enter first number: \"))\n",
    "b=float(input(\"Enter second number: \"))\n",
    "\n",
    "print(\"sum:\",a+b)\n",
    "print(\"difference:\", a-b)\n",
    "print(\"Quotient\",a/b)"
   ]
  },
  {
   "cell_type": "code",
   "execution_count": 3,
   "id": "92459ea7-e0e1-4bf8-8389-c651cf220103",
   "metadata": {},
   "outputs": [
    {
     "name": "stdout",
     "output_type": "stream",
     "text": [
      "a and b: False\n",
      "a or b: True\n",
      "not a: False\n"
     ]
    }
   ],
   "source": [
    "#8. demonstrate logical operators\n",
    "a= True\n",
    "b= False\n",
    "print(\"a and b:\", a and b)\n",
    "print(\"a or b:\", a or b)\n",
    "print(\"not a:\", not a)"
   ]
  },
  {
   "cell_type": "code",
   "execution_count": 8,
   "id": "8a31f1bc-c824-4c32-9ad6-83732ff0b1b1",
   "metadata": {},
   "outputs": [
    {
     "name": "stdin",
     "output_type": "stream",
     "text": [
      "Enter something:  10\n"
     ]
    },
    {
     "name": "stdout",
     "output_type": "stream",
     "text": [
      "Integer: 10\n",
      "Float: 10.0\n",
      "boolean: True\n"
     ]
    }
   ],
   "source": [
    "#9 Convert user input to int,float and bool\n",
    "user_input = input(\"Enter something: \")\n",
    "print(\"Integer:\", int(user_input))\n",
    "print(\"Float:\", float(user_input))\n",
    "print(\"boolean:\", bool(user_input))"
   ]
  },
  {
   "cell_type": "code",
   "execution_count": 10,
   "id": "993ffefd-1ae7-43ba-bbdf-d0a20372658f",
   "metadata": {},
   "outputs": [
    {
     "name": "stdout",
     "output_type": "stream",
     "text": [
      "Converted List: [1, 2, 3]\n"
     ]
    }
   ],
   "source": [
    "#10 Type casting list elements\n",
    "str_list=[\"1\",\"2\",\"3\"]\n",
    "int_list=[int(x) for x in str_list]\n",
    "print(\"Converted List:\",int_list)"
   ]
  },
  {
   "cell_type": "code",
   "execution_count": 13,
   "id": "be603e21-3b7f-4fce-976e-2f4891578162",
   "metadata": {},
   "outputs": [
    {
     "name": "stdin",
     "output_type": "stream",
     "text": [
      "Enter a number:  5\n"
     ]
    },
    {
     "name": "stdout",
     "output_type": "stream",
     "text": [
      "Positive\n"
     ]
    }
   ],
   "source": [
    "#11 Check if a number is positive,negative or zero\n",
    "num=float(input(\"Enter a number: \"))\n",
    "if num>0:\n",
    "          print(\"Positive\")\n",
    "elif num<0:\n",
    "    print(\"Negative\")\n",
    "else:\n",
    "    print(\"Zero\")"
   ]
  },
  {
   "cell_type": "code",
   "execution_count": 20,
   "id": "37f60592-3cd7-4dbf-9d1f-b7f4f781356d",
   "metadata": {},
   "outputs": [
    {
     "name": "stdout",
     "output_type": "stream",
     "text": [
      "1  2  3  4  5  6  7  8  9  10  "
     ]
    }
   ],
   "source": [
    "#12 Print number from 1 to 10 using a for loop\n",
    "for i in range(1,11):\n",
    "    print(i,end=\"  \")"
   ]
  },
  {
   "cell_type": "code",
   "execution_count": 22,
   "id": "f3fe623c-11fd-4ae4-a9bf-0f843daf2678",
   "metadata": {},
   "outputs": [
    {
     "name": "stdout",
     "output_type": "stream",
     "text": [
      "Sum of even numbers from 1 to 50: 650\n"
     ]
    }
   ],
   "source": [
    "#13 Sun of even numbers from 1 to 50\n",
    "even_sum=sum(i for i in range(1,51) if i %2==0)\n",
    "print(\"Sum of even numbers from 1 to 50:\", even_sum)"
   ]
  },
  {
   "cell_type": "code",
   "execution_count": null,
   "id": "3e2ba6e5-bc58-4c89-8005-282a235e32c8",
   "metadata": {},
   "outputs": [],
   "source": [
    "#14 Reverse a string using a while loop\n",
    "a= input(\"Enter a string: \")\n",
    "reversed_str= \"\"\n",
    "i=len(a)-1\n",
    "while i>=0:\n",
    "    reversed_str+= s(i)\n",
    "    i-=1\n",
    "    print(\"Reversed String:\", reversed_str)"
   ]
  },
  {
   "cell_type": "code",
   "execution_count": null,
   "id": "a37e3651-0db1-4be1-a2d2-25caf22854b0",
   "metadata": {},
   "outputs": [],
   "source": [
    "#15 Factorial using a while loop\n",
    "\n",
    "num=int(input(\"Enter a number: \"))\n",
    "fact=1\n",
    "i=1\n",
    "while i<=num:\n",
    "    fact"
   ]
  }
 ],
 "metadata": {
  "kernelspec": {
   "display_name": "Python 3 (ipykernel)",
   "language": "python",
   "name": "python3"
  },
  "language_info": {
   "codemirror_mode": {
    "name": "ipython",
    "version": 3
   },
   "file_extension": ".py",
   "mimetype": "text/x-python",
   "name": "python",
   "nbconvert_exporter": "python",
   "pygments_lexer": "ipython3",
   "version": "3.13.3"
  }
 },
 "nbformat": 4,
 "nbformat_minor": 5
}
